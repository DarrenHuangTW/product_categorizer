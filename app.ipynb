{
 "cells": [
  {
   "cell_type": "code",
   "execution_count": 1,
   "metadata": {},
   "outputs": [],
   "source": [
    "from IPython.display import Image, display\n",
    "import pandas as pd\n",
    "from sklearn.metrics.pairwise import cosine_similarity\n",
    "import numpy as np\n",
    "from openai import OpenAI\n",
    "import os\n",
    "from dotenv import load_dotenv\n",
    "import ast\n",
    "import pandas as pd"
   ]
  },
  {
   "cell_type": "code",
   "execution_count": 2,
   "metadata": {},
   "outputs": [],
   "source": [
    "load_dotenv()\n",
    "client = OpenAI()"
   ]
  },
  {
   "cell_type": "markdown",
   "metadata": {},
   "source": [
    "## Image to Keyword"
   ]
  },
  {
   "cell_type": "code",
   "execution_count": 3,
   "metadata": {},
   "outputs": [
    {
     "data": {
      "text/html": [
       "<div>\n",
       "<style scoped>\n",
       "    .dataframe tbody tr th:only-of-type {\n",
       "        vertical-align: middle;\n",
       "    }\n",
       "\n",
       "    .dataframe tbody tr th {\n",
       "        vertical-align: top;\n",
       "    }\n",
       "\n",
       "    .dataframe thead th {\n",
       "        text-align: right;\n",
       "    }\n",
       "</style>\n",
       "<table border=\"1\" class=\"dataframe\">\n",
       "  <thead>\n",
       "    <tr style=\"text-align: right;\">\n",
       "      <th></th>\n",
       "      <th>product_name</th>\n",
       "      <th>product_image</th>\n",
       "      <th>product_url</th>\n",
       "    </tr>\n",
       "  </thead>\n",
       "  <tbody>\n",
       "    <tr>\n",
       "      <th>0</th>\n",
       "      <td>Fidelio Multimedia Cabinet</td>\n",
       "      <td>https://cdn.shopify.com/s/files/1/0093/8033/15...</td>\n",
       "      <td>https://proof.com.sg/products/fidelio-multimed...</td>\n",
       "    </tr>\n",
       "    <tr>\n",
       "      <th>1</th>\n",
       "      <td>Get Back 2-Seater Sofa</td>\n",
       "      <td>https://cdn.shopify.com/s/files/1/0093/8033/15...</td>\n",
       "      <td>https://proof.com.sg/products/get-back-sofa</td>\n",
       "    </tr>\n",
       "    <tr>\n",
       "      <th>2</th>\n",
       "      <td>Grantorino 3-Seater Sofa</td>\n",
       "      <td>https://cdn.shopify.com/s/files/1/0093/8033/15...</td>\n",
       "      <td>https://proof.com.sg/products/grantorino-sofa</td>\n",
       "    </tr>\n",
       "    <tr>\n",
       "      <th>3</th>\n",
       "      <td>Mamy Blue Armchair with Ottoman</td>\n",
       "      <td>https://cdn.shopify.com/s/files/1/0093/8033/15...</td>\n",
       "      <td>https://proof.com.sg/products/mamy-blue-armchair</td>\n",
       "    </tr>\n",
       "    <tr>\n",
       "      <th>4</th>\n",
       "      <td>Othello Table</td>\n",
       "      <td>https://cdn.shopify.com/s/files/1/0093/8033/15...</td>\n",
       "      <td>https://proof.com.sg/products/othello-table</td>\n",
       "    </tr>\n",
       "  </tbody>\n",
       "</table>\n",
       "</div>"
      ],
      "text/plain": [
       "                      product_name  \\\n",
       "0       Fidelio Multimedia Cabinet   \n",
       "1           Get Back 2-Seater Sofa   \n",
       "2         Grantorino 3-Seater Sofa   \n",
       "3  Mamy Blue Armchair with Ottoman   \n",
       "4                    Othello Table   \n",
       "\n",
       "                                       product_image  \\\n",
       "0  https://cdn.shopify.com/s/files/1/0093/8033/15...   \n",
       "1  https://cdn.shopify.com/s/files/1/0093/8033/15...   \n",
       "2  https://cdn.shopify.com/s/files/1/0093/8033/15...   \n",
       "3  https://cdn.shopify.com/s/files/1/0093/8033/15...   \n",
       "4  https://cdn.shopify.com/s/files/1/0093/8033/15...   \n",
       "\n",
       "                                         product_url  \n",
       "0  https://proof.com.sg/products/fidelio-multimed...  \n",
       "1        https://proof.com.sg/products/get-back-sofa  \n",
       "2      https://proof.com.sg/products/grantorino-sofa  \n",
       "3   https://proof.com.sg/products/mamy-blue-armchair  \n",
       "4        https://proof.com.sg/products/othello-table  "
      ]
     },
     "execution_count": 3,
     "metadata": {},
     "output_type": "execute_result"
    }
   ],
   "source": [
    "dataset_path =  \"products.csv\"\n",
    "df = pd.read_csv(dataset_path)\n",
    "df.head()"
   ]
  },
  {
   "cell_type": "code",
   "execution_count": 31,
   "metadata": {},
   "outputs": [],
   "source": [
    "system_prompt = '''\n",
    "    You are an agent specialized in tagging images of furniture items, decorative items, or furnishings with relevant keywords that could be used to search for these items on a marketplace.\n",
    "    \n",
    "    You will be provided with an image and the title of the item that is depicted in the image, and your goal is to extract keywords for only the item specified. \n",
    "    \n",
    "    Keywords should be concise and in lower case. \n",
    "    \n",
    "    Keywords can describe things like:\n",
    "    - Item type e.g. 'sofa bed', 'chair', 'desk', 'plant'\n",
    "    - Item material e.g. 'wood', 'metal', 'fabric'\n",
    "    - Item style e.g. 'scandinavian', 'vintage', 'industrial'\n",
    "    - Item color e.g. 'red', 'blue', 'white'\n",
    "    \n",
    "    Only deduce material, style or color keywords when it is obvious that they make the item depicted in the image stand out.\n",
    "\n",
    "    Return keywords in the format of an array of strings, like this:\n",
    "    ['desk', 'industrial', 'metal']\n",
    "    \n",
    "'''\n",
    "\n",
    "def analyze_image(img_url, title):\n",
    "    response = client.chat.completions.create(\n",
    "    model=\"gpt-4-vision-preview\",\n",
    "    messages=[\n",
    "        {\n",
    "            \"role\": \"system\",\n",
    "            \"content\": system_prompt\n",
    "        },\n",
    "        {\n",
    "            \"role\": \"user\",\n",
    "            \"content\": [\n",
    "                {\n",
    "                    \"type\": \"image_url\",\n",
    "                    \"image_url\": img_url,\n",
    "                },\n",
    "            ],\n",
    "        },\n",
    "        {\n",
    "            \"role\": \"user\",\n",
    "            \"content\": title\n",
    "        }\n",
    "    ],\n",
    "        max_tokens=300,\n",
    "        top_p=0.1\n",
    "    )\n",
    "\n",
    "    return response.choices[0].message.content"
   ]
  },
  {
   "cell_type": "code",
   "execution_count": 19,
   "metadata": {},
   "outputs": [
    {
     "name": "stdout",
     "output_type": "stream",
     "text": [
      "0\n",
      "1\n",
      "2\n",
      "3\n",
      "4\n",
      "5\n",
      "6\n",
      "7\n",
      "8\n",
      "9\n",
      "10\n",
      "11\n",
      "12\n",
      "13\n",
      "14\n",
      "15\n",
      "16\n",
      "17\n",
      "18\n",
      "19\n",
      "20\n",
      "21\n",
      "22\n",
      "23\n",
      "24\n",
      "25\n",
      "26\n",
      "27\n",
      "28\n",
      "29\n",
      "30\n",
      "31\n",
      "32\n",
      "33\n",
      "34\n",
      "35\n",
      "36\n",
      "37\n",
      "38\n",
      "39\n",
      "40\n",
      "41\n",
      "42\n",
      "43\n",
      "44\n",
      "45\n",
      "46\n",
      "47\n",
      "48\n",
      "49\n",
      "50\n",
      "51\n",
      "52\n",
      "53\n",
      "54\n",
      "55\n",
      "56\n",
      "57\n",
      "58\n",
      "59\n",
      "60\n",
      "61\n",
      "62\n",
      "63\n",
      "64\n",
      "65\n",
      "66\n",
      "67\n",
      "68\n",
      "69\n",
      "70\n",
      "71\n",
      "72\n",
      "73\n",
      "74\n",
      "75\n",
      "76\n",
      "77\n",
      "78\n",
      "79\n",
      "80\n",
      "81\n",
      "82\n",
      "83\n",
      "84\n",
      "85\n",
      "86\n",
      "87\n",
      "88\n",
      "89\n",
      "90\n",
      "91\n",
      "92\n",
      "93\n",
      "94\n",
      "95\n",
      "96\n",
      "97\n",
      "98\n",
      "99\n",
      "100\n",
      "101\n",
      "102\n",
      "103\n",
      "104\n",
      "105\n",
      "106\n",
      "107\n",
      "108\n",
      "109\n",
      "110\n",
      "111\n",
      "112\n",
      "113\n",
      "114\n",
      "115\n",
      "116\n",
      "117\n",
      "118\n",
      "119\n",
      "120\n",
      "121\n",
      "122\n",
      "123\n",
      "124\n",
      "125\n",
      "126\n",
      "127\n",
      "128\n",
      "129\n",
      "130\n",
      "131\n",
      "132\n",
      "133\n",
      "134\n",
      "135\n",
      "136\n",
      "137\n",
      "138\n",
      "139\n",
      "140\n",
      "141\n",
      "142\n",
      "143\n",
      "144\n",
      "145\n",
      "146\n",
      "147\n",
      "148\n",
      "149\n",
      "150\n",
      "151\n",
      "152\n",
      "153\n",
      "154\n",
      "155\n",
      "156\n",
      "157\n",
      "158\n",
      "159\n",
      "160\n",
      "161\n",
      "162\n",
      "163\n",
      "164\n",
      "165\n",
      "166\n",
      "167\n",
      "168\n",
      "169\n",
      "170\n",
      "171\n",
      "172\n",
      "173\n",
      "174\n",
      "175\n",
      "176\n",
      "177\n",
      "178\n",
      "179\n",
      "180\n",
      "181\n",
      "182\n",
      "183\n",
      "184\n",
      "185\n",
      "186\n",
      "187\n",
      "188\n",
      "189\n",
      "190\n",
      "191\n",
      "192\n",
      "193\n",
      "194\n",
      "195\n",
      "196\n",
      "197\n",
      "198\n",
      "199\n",
      "200\n",
      "201\n",
      "202\n",
      "203\n",
      "204\n",
      "205\n",
      "206\n",
      "207\n",
      "208\n",
      "209\n",
      "210\n",
      "211\n",
      "212\n",
      "213\n",
      "214\n",
      "215\n",
      "216\n",
      "217\n",
      "218\n",
      "219\n",
      "220\n",
      "221\n",
      "222\n",
      "223\n",
      "224\n",
      "225\n",
      "226\n",
      "227\n",
      "228\n",
      "229\n",
      "230\n",
      "231\n",
      "232\n",
      "233\n",
      "234\n",
      "235\n",
      "236\n",
      "237\n",
      "238\n",
      "239\n",
      "240\n",
      "241\n",
      "242\n",
      "243\n",
      "244\n",
      "245\n",
      "246\n",
      "247\n",
      "248\n",
      "249\n",
      "250\n",
      "251\n",
      "252\n",
      "253\n",
      "254\n"
     ]
    }
   ],
   "source": [
    "keywords = []\n",
    "for index, row in df.iterrows():\n",
    "    try:\n",
    "        keyword_list = analyze_image(row['product_image'], row['product_name'])\n",
    "        keywords.append(keyword_list)\n",
    "    except Exception as e:\n",
    "        keywords.append(f\"Error: {str(e)}\")\n",
    "    print(index)\n",
    "\n",
    "df['keywords'] = keywords"
   ]
  },
  {
   "cell_type": "code",
   "execution_count": null,
   "metadata": {},
   "outputs": [],
   "source": [
    "df.to_csv('product_keywords.csv', index=False)\n"
   ]
  },
  {
   "cell_type": "markdown",
   "metadata": {},
   "source": [
    "## Load Products CSV with Keywords"
   ]
  },
  {
   "cell_type": "code",
   "execution_count": 3,
   "metadata": {},
   "outputs": [
    {
     "data": {
      "text/html": [
       "<div>\n",
       "<style scoped>\n",
       "    .dataframe tbody tr th:only-of-type {\n",
       "        vertical-align: middle;\n",
       "    }\n",
       "\n",
       "    .dataframe tbody tr th {\n",
       "        vertical-align: top;\n",
       "    }\n",
       "\n",
       "    .dataframe thead th {\n",
       "        text-align: right;\n",
       "    }\n",
       "</style>\n",
       "<table border=\"1\" class=\"dataframe\">\n",
       "  <thead>\n",
       "    <tr style=\"text-align: right;\">\n",
       "      <th></th>\n",
       "      <th>product_name</th>\n",
       "      <th>product_image</th>\n",
       "      <th>product_url</th>\n",
       "      <th>keywords</th>\n",
       "    </tr>\n",
       "  </thead>\n",
       "  <tbody>\n",
       "    <tr>\n",
       "      <th>0</th>\n",
       "      <td>Fidelio Multimedia Cabinet</td>\n",
       "      <td>https://cdn.shopify.com/s/files/1/0093/8033/15...</td>\n",
       "      <td>https://proof.com.sg/products/fidelio-multimed...</td>\n",
       "      <td>['multimedia cabinet', 'wood', 'modern', 'brown']</td>\n",
       "    </tr>\n",
       "    <tr>\n",
       "      <th>1</th>\n",
       "      <td>Get Back 2-Seater Sofa</td>\n",
       "      <td>https://cdn.shopify.com/s/files/1/0093/8033/15...</td>\n",
       "      <td>https://proof.com.sg/products/get-back-sofa</td>\n",
       "      <td>['sofa', '2-seater', 'leather', 'brown', 'mode...</td>\n",
       "    </tr>\n",
       "    <tr>\n",
       "      <th>2</th>\n",
       "      <td>Grantorino 3-Seater Sofa</td>\n",
       "      <td>https://cdn.shopify.com/s/files/1/0093/8033/15...</td>\n",
       "      <td>https://proof.com.sg/products/grantorino-sofa</td>\n",
       "      <td>['sofa', '3-seater', 'fabric', 'wood', 'beige'...</td>\n",
       "    </tr>\n",
       "    <tr>\n",
       "      <th>3</th>\n",
       "      <td>Mamy Blue Armchair with Ottoman</td>\n",
       "      <td>https://cdn.shopify.com/s/files/1/0093/8033/15...</td>\n",
       "      <td>https://proof.com.sg/products/mamy-blue-armchair</td>\n",
       "      <td>['armchair', 'ottoman', 'leather', 'blue', 'br...</td>\n",
       "    </tr>\n",
       "    <tr>\n",
       "      <th>4</th>\n",
       "      <td>Othello Table</td>\n",
       "      <td>https://cdn.shopify.com/s/files/1/0093/8033/15...</td>\n",
       "      <td>https://proof.com.sg/products/othello-table</td>\n",
       "      <td>['table', 'oval', 'marble top', 'wooden base',...</td>\n",
       "    </tr>\n",
       "  </tbody>\n",
       "</table>\n",
       "</div>"
      ],
      "text/plain": [
       "                      product_name  \\\n",
       "0       Fidelio Multimedia Cabinet   \n",
       "1           Get Back 2-Seater Sofa   \n",
       "2         Grantorino 3-Seater Sofa   \n",
       "3  Mamy Blue Armchair with Ottoman   \n",
       "4                    Othello Table   \n",
       "\n",
       "                                       product_image  \\\n",
       "0  https://cdn.shopify.com/s/files/1/0093/8033/15...   \n",
       "1  https://cdn.shopify.com/s/files/1/0093/8033/15...   \n",
       "2  https://cdn.shopify.com/s/files/1/0093/8033/15...   \n",
       "3  https://cdn.shopify.com/s/files/1/0093/8033/15...   \n",
       "4  https://cdn.shopify.com/s/files/1/0093/8033/15...   \n",
       "\n",
       "                                         product_url  \\\n",
       "0  https://proof.com.sg/products/fidelio-multimed...   \n",
       "1        https://proof.com.sg/products/get-back-sofa   \n",
       "2      https://proof.com.sg/products/grantorino-sofa   \n",
       "3   https://proof.com.sg/products/mamy-blue-armchair   \n",
       "4        https://proof.com.sg/products/othello-table   \n",
       "\n",
       "                                            keywords  \n",
       "0  ['multimedia cabinet', 'wood', 'modern', 'brown']  \n",
       "1  ['sofa', '2-seater', 'leather', 'brown', 'mode...  \n",
       "2  ['sofa', '3-seater', 'fabric', 'wood', 'beige'...  \n",
       "3  ['armchair', 'ottoman', 'leather', 'blue', 'br...  \n",
       "4  ['table', 'oval', 'marble top', 'wooden base',...  "
      ]
     },
     "execution_count": 3,
     "metadata": {},
     "output_type": "execute_result"
    }
   ],
   "source": [
    "\n",
    "df = pd.read_csv('product_keywords.csv')\n",
    "\n",
    "df.head()"
   ]
  },
  {
   "cell_type": "code",
   "execution_count": 4,
   "metadata": {},
   "outputs": [],
   "source": [
    "def convert_string_to_list(string_list):\n",
    "    try:\n",
    "        actual_list = ast.literal_eval(string_list)\n",
    "        return actual_list\n",
    "    except ValueError as e:\n",
    "        print(f\"Error converting string to list: {e}\")\n",
    "        return None"
   ]
  },
  {
   "cell_type": "code",
   "execution_count": 5,
   "metadata": {},
   "outputs": [
    {
     "name": "stdout",
     "output_type": "stream",
     "text": [
      "Skipping product 'Go Figure' at index 61 due to error: unterminated string literal (detected at line 1) (<unknown>, line 1)\n",
      "Skipping product 'Light The Way' at index 96 due to error: invalid syntax (<unknown>, line 1)\n",
      "Skipping product 'Burano Rug' at index 102 due to error: invalid syntax (<unknown>, line 1)\n",
      "Skipping product 'Turn+' at index 155 due to error: invalid syntax (<unknown>, line 1)\n",
      "Skipping product 'Sister Louise' at index 162 due to error: invalid syntax (<unknown>, line 1)\n",
      "['spindle back', 'faux blossom', 'dark brown', 'woven pattern', 'glass top', 'contemporary', 'sectional sofa', 'leather care', 'wicker basket', 'tropical', 'face design', 'gold accent', 'bronze', 'elliptical', 'lattice', 'lounge chair', 'decorative vase', 'figurine', 'teal', 'textured', 'bowl', 'chair', 'stationery holder', 'red cord', 'desk accessories', 'orchid', 'fountain palm', 'small table', 'sculpture', 'cleaning kit', 'amber', 'rug', '2-seater', 'lattice pattern', 'magazine holder', 'modular', 'bedstead', 'green', 'wall art', 'oval', 'area rug', 'dressing table', 'blue', 'visitor chair', 'led', 'plant', 'dining table', 'berry', 'swivel', 'rolling', 'fig tree', 'pendant', 'cushion', 'room divider', 'border', 'illustrated', 'tribal', 'metallic', 'flower arrangement', 'gold accents', 'adjustable', 'decorative item', 'cabinet', 'cloth', 'geometric', 'ottoman', 'mid-century modern', 'high', 'side table', 'floor lamp', 'plastic', 'fragrance', 'silver', 'owl-shaped', 'valet stand', 'rose gold', 'rectangular', 'round', 'glass', 'indoor plant', 'trolley', 'upholstered', 'animal motif', 'wine bag', 'brass', '2 seater', 'scandinavian', 'outdoor cushion', 'dining chair', 'gray', 'king bed', 'pendant light', 'multi-level', 'hurricane candle holder', 'copper', 'sponge', 'vanity', 'rectangle', 'freestanding', 'desk', 'tangerine', 'red', 'split philodendron', 'flower vase', 'metal', 'tufted', 'smoked', 'car diffuser case', 'armrest', 'magazine rack', 'leather headboard', 'natural', 'small', 'console table', 'windflower', 'pot', 'faux flower', 'animal theme', 'lounge', 'armchair', 'standing mirror', 'metal accents', 'saarinen', 'knitted', 'sofa', 'candle holder', 'pink', 'swivel base', 'animal-themed', 'irregular shape', 'sectional chaise', 'large', 'stone top', 'triangle table', 'night table', 'transparent', 'stool', 'dark color', 'white', 'wheels', 'sectional', 'multimedia cabinet', 'wall-mounted', 'mesh', 'artificial plant', 'wall mirror', 'white base', 'bordered', 'freshwater', 'wood', 'owl', 'organizer', 'coffee table', 'office chair', 'mid-century', 'tree-shaped', 'framed', 'flowers', 'lamp', 'round table', 'scented', 'bookcase', 'vintage', 'black and white', 'cut-out backrest', 'stackable case', 'mask', 'bed', 'black', 'pouf', 'two-tone', 'yellow', 'dual shelf', 'chandelier', 'wooden base', 'ceramic', 'daybed', 'handle', 'patterned', 'tan', 'purple', 'basket', 'rocking chair', 'sidechair', 'floral pattern', '3-seater', 'ceiling lamp', 'roses', 'dark gray', 'mirror', 'decorative', 'artificial flowers', 'auburn', 'case', 'white shade', 'woven', 'car diffuser refill', 'marble top', 'sequins', 'geometric pattern', 'potted', 'lantern', 'plate', 'reclining armchair', '3 seater', 'metal frame', 'with shelf', 'low cabinet', 'movable backdrop', 'mandala pattern', 'fabric', 'terrazzo', 'wall mask', 'modern', 'grey', 'polka dot', 'modular sofa', 'quilted', 'faux floral arrangement', 'metal legs', 'square', 'animal print', 'executive chair', 'wicker', 'table', 'neutral color', 'gold', 'bottle', 'magnolia', 'leather', 'curved', 'peonies', 'spring decor', 'orange', 'crystal', 'beige', 'flowerpot', 'container', 'shelves', 'marble', 'glass vase', 'bottles', 'brown', 'outdoor', 'primates', 'multicolor', 'metal base', 'tray', 'floral arrangement', 'high back', 'vase', 'slatted', 'wall decor', 'chest of drawers', 'abstract', 'tall', 'neutral', 'striped', 'green top', 'table lamp', 'decorative mask', 'cachalot', 'armrests', 'figurative', 'tv cabinet']\n",
      "265\n"
     ]
    }
   ],
   "source": [
    "unique_keywords = set()\n",
    "\n",
    "for index, row in df.iterrows():\n",
    "    try:\n",
    "        keyword_list = convert_string_to_list(row['keywords'])\n",
    "        if keyword_list:\n",
    "            unique_keywords.update(keyword_list)\n",
    "    except Exception as e:\n",
    "        print(f\"Skipping product '{row['product_name']}' at index {index} due to error: {e}\")\n",
    "        continue\n",
    "\n",
    "unique_keywords_list = list(unique_keywords)\n",
    "print(unique_keywords_list)\n",
    "print(len(unique_keywords_list))\n"
   ]
  },
  {
   "cell_type": "code",
   "execution_count": 6,
   "metadata": {},
   "outputs": [
    {
     "data": {
      "text/html": [
       "<div>\n",
       "<style scoped>\n",
       "    .dataframe tbody tr th:only-of-type {\n",
       "        vertical-align: middle;\n",
       "    }\n",
       "\n",
       "    .dataframe tbody tr th {\n",
       "        vertical-align: top;\n",
       "    }\n",
       "\n",
       "    .dataframe thead th {\n",
       "        text-align: right;\n",
       "    }\n",
       "</style>\n",
       "<table border=\"1\" class=\"dataframe\">\n",
       "  <thead>\n",
       "    <tr style=\"text-align: right;\">\n",
       "      <th></th>\n",
       "      <th>Keyword</th>\n",
       "      <th>Count</th>\n",
       "    </tr>\n",
       "  </thead>\n",
       "  <tbody>\n",
       "    <tr>\n",
       "      <th>104</th>\n",
       "      <td>metal</td>\n",
       "      <td>78</td>\n",
       "    </tr>\n",
       "    <tr>\n",
       "      <th>213</th>\n",
       "      <td>modern</td>\n",
       "      <td>70</td>\n",
       "    </tr>\n",
       "    <tr>\n",
       "      <th>149</th>\n",
       "      <td>wood</td>\n",
       "      <td>62</td>\n",
       "    </tr>\n",
       "    <tr>\n",
       "      <th>224</th>\n",
       "      <td>table</td>\n",
       "      <td>50</td>\n",
       "    </tr>\n",
       "    <tr>\n",
       "      <th>210</th>\n",
       "      <td>fabric</td>\n",
       "      <td>48</td>\n",
       "    </tr>\n",
       "    <tr>\n",
       "      <th>5</th>\n",
       "      <td>contemporary</td>\n",
       "      <td>46</td>\n",
       "    </tr>\n",
       "    <tr>\n",
       "      <th>21</th>\n",
       "      <td>chair</td>\n",
       "      <td>40</td>\n",
       "    </tr>\n",
       "    <tr>\n",
       "      <th>138</th>\n",
       "      <td>white</td>\n",
       "      <td>39</td>\n",
       "    </tr>\n",
       "    <tr>\n",
       "      <th>168</th>\n",
       "      <td>black</td>\n",
       "      <td>37</td>\n",
       "    </tr>\n",
       "    <tr>\n",
       "      <th>242</th>\n",
       "      <td>brown</td>\n",
       "      <td>36</td>\n",
       "    </tr>\n",
       "    <tr>\n",
       "      <th>229</th>\n",
       "      <td>leather</td>\n",
       "      <td>34</td>\n",
       "    </tr>\n",
       "    <tr>\n",
       "      <th>175</th>\n",
       "      <td>ceramic</td>\n",
       "      <td>24</td>\n",
       "    </tr>\n",
       "    <tr>\n",
       "      <th>190</th>\n",
       "      <td>decorative</td>\n",
       "      <td>24</td>\n",
       "    </tr>\n",
       "    <tr>\n",
       "      <th>250</th>\n",
       "      <td>vase</td>\n",
       "      <td>22</td>\n",
       "    </tr>\n",
       "    <tr>\n",
       "      <th>119</th>\n",
       "      <td>armchair</td>\n",
       "      <td>22</td>\n",
       "    </tr>\n",
       "  </tbody>\n",
       "</table>\n",
       "</div>"
      ],
      "text/plain": [
       "          Keyword  Count\n",
       "104         metal     78\n",
       "213        modern     70\n",
       "149          wood     62\n",
       "224         table     50\n",
       "210        fabric     48\n",
       "5    contemporary     46\n",
       "21          chair     40\n",
       "138         white     39\n",
       "168         black     37\n",
       "242         brown     36\n",
       "229       leather     34\n",
       "175       ceramic     24\n",
       "190    decorative     24\n",
       "250          vase     22\n",
       "119      armchair     22"
      ]
     },
     "execution_count": 6,
     "metadata": {},
     "output_type": "execute_result"
    }
   ],
   "source": [
    "# Count the occurrences of each keyword in the 'keywords' column of the dataframe\n",
    "keyword_counts = {}\n",
    "for keyword in unique_keywords_list:\n",
    "    count = df['keywords'].str.contains(keyword, regex=False).sum()\n",
    "    keyword_counts[keyword] = count\n",
    "\n",
    "# Convert the dictionary to a dataframe for better visualization\n",
    "df_keyword_counts = pd.DataFrame(list(keyword_counts.items()), columns=['Keyword', 'Count']).sort_values(by='Count', ascending=False)\n",
    "df_keyword_counts[:15]\n"
   ]
  },
  {
   "cell_type": "markdown",
   "metadata": {},
   "source": [
    "## Embedding Keywords"
   ]
  },
  {
   "cell_type": "code",
   "execution_count": 9,
   "metadata": {},
   "outputs": [],
   "source": [
    "def get_embedding(value, model=\"text-embedding-3-large\"): \n",
    "    embeddings = client.embeddings.create(\n",
    "      model=model,\n",
    "      input=value,\n",
    "      encoding_format=\"float\"\n",
    "    )\n",
    "    return embeddings.data[0].embedding"
   ]
  },
  {
   "cell_type": "code",
   "execution_count": 13,
   "metadata": {},
   "outputs": [
    {
     "data": {
      "text/html": [
       "<div>\n",
       "<style scoped>\n",
       "    .dataframe tbody tr th:only-of-type {\n",
       "        vertical-align: middle;\n",
       "    }\n",
       "\n",
       "    .dataframe tbody tr th {\n",
       "        vertical-align: top;\n",
       "    }\n",
       "\n",
       "    .dataframe thead th {\n",
       "        text-align: right;\n",
       "    }\n",
       "</style>\n",
       "<table border=\"1\" class=\"dataframe\">\n",
       "  <thead>\n",
       "    <tr style=\"text-align: right;\">\n",
       "      <th></th>\n",
       "      <th>keyword</th>\n",
       "      <th>embedding</th>\n",
       "    </tr>\n",
       "  </thead>\n",
       "  <tbody>\n",
       "    <tr>\n",
       "      <th>0</th>\n",
       "      <td>lantern</td>\n",
       "      <td>[-0.0069259447, -0.03568734, -0.0018425976, 0....</td>\n",
       "    </tr>\n",
       "    <tr>\n",
       "      <th>1</th>\n",
       "      <td>dining table</td>\n",
       "      <td>[-0.013363886, 0.0036296975, -0.009659945, 0.0...</td>\n",
       "    </tr>\n",
       "    <tr>\n",
       "      <th>2</th>\n",
       "      <td>freestanding</td>\n",
       "      <td>[-0.015173343, 0.008831116, -0.010515562, -0.0...</td>\n",
       "    </tr>\n",
       "    <tr>\n",
       "      <th>3</th>\n",
       "      <td>mirror</td>\n",
       "      <td>[-0.03284055, -0.0026042038, -0.008534649, 0.0...</td>\n",
       "    </tr>\n",
       "    <tr>\n",
       "      <th>4</th>\n",
       "      <td>with shelf</td>\n",
       "      <td>[-0.055056524, 0.009057853, -0.025313543, -0.0...</td>\n",
       "    </tr>\n",
       "    <tr>\n",
       "      <th>...</th>\n",
       "      <td>...</td>\n",
       "      <td>...</td>\n",
       "    </tr>\n",
       "    <tr>\n",
       "      <th>260</th>\n",
       "      <td>dark brown</td>\n",
       "      <td>[-0.0032348004, 0.009423737, -0.0022780863, -0...</td>\n",
       "    </tr>\n",
       "    <tr>\n",
       "      <th>261</th>\n",
       "      <td>area rug</td>\n",
       "      <td>[-0.037138514, -0.018781073, -0.000190304, 0.0...</td>\n",
       "    </tr>\n",
       "    <tr>\n",
       "      <th>262</th>\n",
       "      <td>crystal</td>\n",
       "      <td>[-0.0039020386, -0.003952973, -0.0056913956, 0...</td>\n",
       "    </tr>\n",
       "    <tr>\n",
       "      <th>263</th>\n",
       "      <td>wine bag</td>\n",
       "      <td>[-0.03963623, 0.0102983415, -0.003990165, 0.00...</td>\n",
       "    </tr>\n",
       "    <tr>\n",
       "      <th>264</th>\n",
       "      <td>decorative item</td>\n",
       "      <td>[-0.046359107, 0.0010812389, -0.02134691, -0.0...</td>\n",
       "    </tr>\n",
       "  </tbody>\n",
       "</table>\n",
       "<p>265 rows × 2 columns</p>\n",
       "</div>"
      ],
      "text/plain": [
       "             keyword                                          embedding\n",
       "0            lantern  [-0.0069259447, -0.03568734, -0.0018425976, 0....\n",
       "1       dining table  [-0.013363886, 0.0036296975, -0.009659945, 0.0...\n",
       "2       freestanding  [-0.015173343, 0.008831116, -0.010515562, -0.0...\n",
       "3             mirror  [-0.03284055, -0.0026042038, -0.008534649, 0.0...\n",
       "4         with shelf  [-0.055056524, 0.009057853, -0.025313543, -0.0...\n",
       "..               ...                                                ...\n",
       "260       dark brown  [-0.0032348004, 0.009423737, -0.0022780863, -0...\n",
       "261         area rug  [-0.037138514, -0.018781073, -0.000190304, 0.0...\n",
       "262          crystal  [-0.0039020386, -0.003952973, -0.0056913956, 0...\n",
       "263         wine bag  [-0.03963623, 0.0102983415, -0.003990165, 0.00...\n",
       "264  decorative item  [-0.046359107, 0.0010812389, -0.02134691, -0.0...\n",
       "\n",
       "[265 rows x 2 columns]"
      ]
     },
     "execution_count": 13,
     "metadata": {},
     "output_type": "execute_result"
    }
   ],
   "source": [
    "df_keywords = pd.DataFrame(unique_keywords_list, columns=['keyword'])\n",
    "df_keywords['embedding'] = df_keywords['keyword'].apply(lambda x: get_embedding(x))\n",
    "df_keywords"
   ]
  },
  {
   "cell_type": "markdown",
   "metadata": {},
   "source": [
    "### for embeddings of new products/keywords"
   ]
  },
  {
   "cell_type": "code",
   "execution_count": 14,
   "metadata": {},
   "outputs": [],
   "source": [
    "def compare_keyword(keyword):\n",
    "    embedded_value = get_embedding(keyword)\n",
    "    df_keywords['similarity'] = df_keywords['embedding'].apply(lambda x: cosine_similarity(np.array(x).reshape(1,-1), np.array(embedded_value).reshape(1, -1)))\n",
    "    most_similar = df_keywords.sort_values('similarity', ascending=False).iloc[0]\n",
    "    return most_similar\n",
    "\n",
    "def replace_keyword(keyword, threshold = 0.6):\n",
    "    most_similar = compare_keyword(keyword)\n",
    "    if most_similar['similarity'] > threshold:\n",
    "        print(f\"Replacing '{keyword}' with existing keyword: '{most_similar['keyword']}'\")\n",
    "        return most_similar['keyword']\n",
    "    return keyword"
   ]
  },
  {
   "cell_type": "markdown",
   "metadata": {},
   "source": [
    "## Demo"
   ]
  },
  {
   "cell_type": "code",
   "execution_count": 7,
   "metadata": {},
   "outputs": [],
   "source": [
    "def search_products_by_keyword(df, keyword):\n",
    "    # Filter the dataframe for products containing the keyword in their keywords list\n",
    "    filtered_df = df[df['keywords'].apply(lambda x: keyword in x)]\n",
    "    # Return the first 5 products\n",
    "    return filtered_df\n",
    "\n",
    "def render_products(df):\n",
    "    # Render the first 5 products, images, and keywords\n",
    "    for index, row in df.iterrows():\n",
    "        product_name = row['product_name']\n",
    "        product_url = row['product_url']\n",
    "        product_image = row['product_image']\n",
    "        product_keywords = row['keywords']\n",
    "        print(f\"Product Name: {product_name}\")\n",
    "        print(f\"Product URL: {product_url}\")\n",
    "        print(f\"Keywords: {product_keywords}\")\n",
    "        display(Image(url=product_image))\n",
    "        print(\"\\n\")\n"
   ]
  },
  {
   "cell_type": "code",
   "execution_count": 8,
   "metadata": {},
   "outputs": [
    {
     "name": "stdout",
     "output_type": "stream",
     "text": [
      "There are 78 products that contain the keyword 'metal' \n",
      "Here are 10 of them:\n",
      "\n",
      "\n",
      "Product Name: Bob Coffee Table\n",
      "Product URL: https://proof.com.sg/products/bob-coffee-table\n",
      "Keywords: ['coffee table', 'round', 'metal', 'red']\n"
     ]
    },
    {
     "data": {
      "text/html": [
       "<img src=\"https://cdn.shopify.com/s/files/1/0093/8033/1583/files/bob3.png?v=1698909376\"/>"
      ],
      "text/plain": [
       "<IPython.core.display.Image object>"
      ]
     },
     "metadata": {},
     "output_type": "display_data"
    },
    {
     "name": "stdout",
     "output_type": "stream",
     "text": [
      "\n",
      "\n",
      "Product Name: Fidelio Low Cabinet\n",
      "Product URL: https://proof.com.sg/products/fidelio-low-storage-cabinets\n",
      "Keywords: ['low cabinet', 'contemporary', 'metal', 'beige']\n"
     ]
    },
    {
     "data": {
      "text/html": [
       "<img src=\"https://cdn.shopify.com/s/files/1/0093/8033/1583/files/fedeliolow7.png?v=1698908194\"/>"
      ],
      "text/plain": [
       "<IPython.core.display.Image object>"
      ]
     },
     "metadata": {},
     "output_type": "display_data"
    },
    {
     "name": "stdout",
     "output_type": "stream",
     "text": [
      "\n",
      "\n",
      "Product Name: Mr Moonlight Bed\n",
      "Product URL: https://proof.com.sg/products/pf3211d5615272\n",
      "Keywords: ['bed', 'upholstered', 'contemporary', 'metal legs']\n"
     ]
    },
    {
     "data": {
      "text/html": [
       "<img src=\"https://cdn.shopify.com/s/files/1/0093/8033/1583/files/MML1.png?v=1706086315\"/>"
      ],
      "text/plain": [
       "<IPython.core.display.Image object>"
      ]
     },
     "metadata": {},
     "output_type": "display_data"
    },
    {
     "name": "stdout",
     "output_type": "stream",
     "text": [
      "\n",
      "\n",
      "Product Name: Jay Lounge Reclining Armchair with Ottoman\n",
      "Product URL: https://proof.com.sg/products/reclining-armchair-ottoman\n",
      "Keywords: ['reclining armchair', 'ottoman', 'leather', 'modern', 'metal', 'grey']\n"
     ]
    },
    {
     "data": {
      "text/html": [
       "<img src=\"https://cdn.shopify.com/s/files/1/0093/8033/1583/files/JayLounge1.png?v=1698896458\"/>"
      ],
      "text/plain": [
       "<IPython.core.display.Image object>"
      ]
     },
     "metadata": {},
     "output_type": "display_data"
    },
    {
     "name": "stdout",
     "output_type": "stream",
     "text": [
      "\n",
      "\n",
      "Product Name: XI Table Lamp\n",
      "Product URL: https://proof.com.sg/products/xi-table-lamp\n",
      "Keywords: ['table lamp', 'metal', 'glass', 'bronze', 'white']\n"
     ]
    },
    {
     "data": {
      "text/html": [
       "<img src=\"https://cdn.shopify.com/s/files/1/0093/8033/1583/files/XIlamp2.png?v=1698895773\"/>"
      ],
      "text/plain": [
       "<IPython.core.display.Image object>"
      ]
     },
     "metadata": {},
     "output_type": "display_data"
    },
    {
     "name": "stdout",
     "output_type": "stream",
     "text": [
      "\n",
      "\n",
      "Product Name: Soffi Composition Chandelier\n",
      "Product URL: https://proof.com.sg/products/suspension-small-lamp\n",
      "Keywords: ['chandelier', 'modern', 'glass', 'metal', 'wood', 'gold']\n"
     ]
    },
    {
     "data": {
      "text/html": [
       "<img src=\"https://cdn.shopify.com/s/files/1/0093/8033/1583/files/soffi4.jpg?v=1710907003\"/>"
      ],
      "text/plain": [
       "<IPython.core.display.Image object>"
      ]
     },
     "metadata": {},
     "output_type": "display_data"
    },
    {
     "name": "stdout",
     "output_type": "stream",
     "text": [
      "\n",
      "\n",
      "Product Name: Bob Side Table\n",
      "Product URL: https://proof.com.sg/products/bob-side-table-43-cm\n",
      "Keywords: ['side table', 'marble top', 'metal base', 'white']\n"
     ]
    },
    {
     "data": {
      "text/html": [
       "<img src=\"https://cdn.shopify.com/s/files/1/0093/8033/1583/files/bobside1.png?v=1698894796\"/>"
      ],
      "text/plain": [
       "<IPython.core.display.Image object>"
      ]
     },
     "metadata": {},
     "output_type": "display_data"
    },
    {
     "name": "stdout",
     "output_type": "stream",
     "text": [
      "\n",
      "\n",
      "Product Name: Bolero Dining Table\n",
      "Product URL: https://proof.com.sg/products/bolero-dining-table-poltrona\n",
      "Keywords: ['dining table', 'wood', 'metal', 'modern', 'rectangular', 'dark color']\n"
     ]
    },
    {
     "data": {
      "text/html": [
       "<img src=\"https://cdn.shopify.com/s/files/1/0093/8033/1583/files/BoleroDining3.png?v=1698894538\"/>"
      ],
      "text/plain": [
       "<IPython.core.display.Image object>"
      ]
     },
     "metadata": {},
     "output_type": "display_data"
    },
    {
     "name": "stdout",
     "output_type": "stream",
     "text": [
      "\n",
      "\n",
      "Product Name: Fidelio Coffee Table\n",
      "Product URL: https://proof.com.sg/products/fidelio-coffee-table-poltrona\n",
      "Keywords: ['coffee table', 'marble', 'contemporary', 'metal', 'white']\n"
     ]
    },
    {
     "data": {
      "text/html": [
       "<img src=\"https://cdn.shopify.com/s/files/1/0093/8033/1583/files/fideliocoffee1.png?v=1698887582\"/>"
      ],
      "text/plain": [
       "<IPython.core.display.Image object>"
      ]
     },
     "metadata": {},
     "output_type": "display_data"
    },
    {
     "name": "stdout",
     "output_type": "stream",
     "text": [
      "\n",
      "\n",
      "Product Name: Fred Home Desk\n",
      "Product URL: https://proof.com.sg/products/fred-home-desk\n",
      "Keywords: ['desk', 'contemporary', 'metal', 'wood', 'gray', 'black']\n"
     ]
    },
    {
     "data": {
      "text/html": [
       "<img src=\"https://cdn.shopify.com/s/files/1/0093/8033/1583/files/freddesk11.png?v=1706091955\"/>"
      ],
      "text/plain": [
       "<IPython.core.display.Image object>"
      ]
     },
     "metadata": {},
     "output_type": "display_data"
    },
    {
     "name": "stdout",
     "output_type": "stream",
     "text": [
      "\n",
      "\n"
     ]
    }
   ],
   "source": [
    "keyword = \"metal\"\n",
    "number = 10\n",
    "\n",
    "filtered_df = search_products_by_keyword(df, keyword)\n",
    "print(f\"There are {len(filtered_df)} products that contain the keyword '{keyword}' \\nHere are {number} of them:\\n\\n\")\n",
    "\n",
    "render_products(filtered_df[:number])"
   ]
  }
 ],
 "metadata": {
  "kernelspec": {
   "display_name": "Python 3",
   "language": "python",
   "name": "python3"
  },
  "language_info": {
   "codemirror_mode": {
    "name": "ipython",
    "version": 3
   },
   "file_extension": ".py",
   "mimetype": "text/x-python",
   "name": "python",
   "nbconvert_exporter": "python",
   "pygments_lexer": "ipython3",
   "version": "3.11.0"
  }
 },
 "nbformat": 4,
 "nbformat_minor": 2
}
