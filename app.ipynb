{
 "cells": [
  {
   "cell_type": "code",
   "execution_count": 58,
   "metadata": {},
   "outputs": [],
   "source": [
    "from IPython.display import Image, display\n",
    "import pandas as pd\n",
    "from sklearn.metrics.pairwise import cosine_similarity\n",
    "import numpy as np\n",
    "from openai import OpenAI\n",
    "import os\n",
    "from dotenv import load_dotenv\n",
    "import ast\n",
    "import pandas as pd"
   ]
  },
  {
   "cell_type": "code",
   "execution_count": 59,
   "metadata": {},
   "outputs": [],
   "source": [
    "load_dotenv()\n",
    "client = OpenAI()"
   ]
  },
  {
   "cell_type": "markdown",
   "metadata": {},
   "source": [
    "## Image to Keyword"
   ]
  },
  {
   "cell_type": "code",
   "execution_count": 60,
   "metadata": {},
   "outputs": [],
   "source": [
    "dataset_path =  \"products_small.csv\"\n",
    "#dataset_path =  \"products.csv\"\n",
    "df = pd.read_csv(dataset_path)"
   ]
  },
  {
   "cell_type": "code",
   "execution_count": 61,
   "metadata": {},
   "outputs": [
    {
     "name": "stdout",
     "output_type": "stream",
     "text": [
      "The dataframe has 10 rows and 5 columns.\n"
     ]
    },
    {
     "data": {
      "text/html": [
       "<div>\n",
       "<style scoped>\n",
       "    .dataframe tbody tr th:only-of-type {\n",
       "        vertical-align: middle;\n",
       "    }\n",
       "\n",
       "    .dataframe tbody tr th {\n",
       "        vertical-align: top;\n",
       "    }\n",
       "\n",
       "    .dataframe thead th {\n",
       "        text-align: right;\n",
       "    }\n",
       "</style>\n",
       "<table border=\"1\" class=\"dataframe\">\n",
       "  <thead>\n",
       "    <tr style=\"text-align: right;\">\n",
       "      <th></th>\n",
       "      <th>product_name</th>\n",
       "      <th>product_image_main</th>\n",
       "      <th>product_image_all</th>\n",
       "      <th>product_url</th>\n",
       "      <th>product_description</th>\n",
       "    </tr>\n",
       "  </thead>\n",
       "  <tbody>\n",
       "    <tr>\n",
       "      <th>0</th>\n",
       "      <td>Fidelio Multimedia Cabinet</td>\n",
       "      <td>https://cdn.shopify.com/s/files/1/0093/8033/15...</td>\n",
       "      <td>[https://proof.com.sg/cdn/shop/files/fideliomu...</td>\n",
       "      <td>https://proof.com.sg/products/fidelio-multimed...</td>\n",
       "      <td>Roberto Lazzeroni has enriched the series of F...</td>\n",
       "    </tr>\n",
       "    <tr>\n",
       "      <th>1</th>\n",
       "      <td>Get Back 2-Seater Sofa</td>\n",
       "      <td>https://cdn.shopify.com/s/files/1/0093/8033/15...</td>\n",
       "      <td>[https://proof.com.sg/cdn/shop/files/get1.png?...</td>\n",
       "      <td>https://proof.com.sg/products/get-back-sofa</td>\n",
       "      <td>After Let it Be and Come Together, designed fo...</td>\n",
       "    </tr>\n",
       "    <tr>\n",
       "      <th>2</th>\n",
       "      <td>Grantorino 3-Seater Sofa</td>\n",
       "      <td>https://cdn.shopify.com/s/files/1/0093/8033/15...</td>\n",
       "      <td>[https://proof.com.sg/cdn/shop/files/3seater.p...</td>\n",
       "      <td>https://proof.com.sg/products/grantorino-sofa</td>\n",
       "      <td>The world of saddlery, a realm of luxury craft...</td>\n",
       "    </tr>\n",
       "    <tr>\n",
       "      <th>3</th>\n",
       "      <td>Mamy Blue Armchair with Ottoman</td>\n",
       "      <td>https://cdn.shopify.com/s/files/1/0093/8033/15...</td>\n",
       "      <td>[https://proof.com.sg/cdn/shop/files/mamy3_1c7...</td>\n",
       "      <td>https://proof.com.sg/products/mamy-blue-armchair</td>\n",
       "      <td>Mamy Blue could be described as an armchair fo...</td>\n",
       "    </tr>\n",
       "    <tr>\n",
       "      <th>4</th>\n",
       "      <td>Othello Table</td>\n",
       "      <td>https://cdn.shopify.com/s/files/1/0093/8033/15...</td>\n",
       "      <td>[https://proof.com.sg/cdn/shop/files/OthelloTa...</td>\n",
       "      <td>https://proof.com.sg/products/othello-table</td>\n",
       "      <td>The series of Othello tables are inspired by t...</td>\n",
       "    </tr>\n",
       "  </tbody>\n",
       "</table>\n",
       "</div>"
      ],
      "text/plain": [
       "                      product_name  \\\n",
       "0       Fidelio Multimedia Cabinet   \n",
       "1           Get Back 2-Seater Sofa   \n",
       "2         Grantorino 3-Seater Sofa   \n",
       "3  Mamy Blue Armchair with Ottoman   \n",
       "4                    Othello Table   \n",
       "\n",
       "                                  product_image_main  \\\n",
       "0  https://cdn.shopify.com/s/files/1/0093/8033/15...   \n",
       "1  https://cdn.shopify.com/s/files/1/0093/8033/15...   \n",
       "2  https://cdn.shopify.com/s/files/1/0093/8033/15...   \n",
       "3  https://cdn.shopify.com/s/files/1/0093/8033/15...   \n",
       "4  https://cdn.shopify.com/s/files/1/0093/8033/15...   \n",
       "\n",
       "                                   product_image_all  \\\n",
       "0  [https://proof.com.sg/cdn/shop/files/fideliomu...   \n",
       "1  [https://proof.com.sg/cdn/shop/files/get1.png?...   \n",
       "2  [https://proof.com.sg/cdn/shop/files/3seater.p...   \n",
       "3  [https://proof.com.sg/cdn/shop/files/mamy3_1c7...   \n",
       "4  [https://proof.com.sg/cdn/shop/files/OthelloTa...   \n",
       "\n",
       "                                         product_url  \\\n",
       "0  https://proof.com.sg/products/fidelio-multimed...   \n",
       "1        https://proof.com.sg/products/get-back-sofa   \n",
       "2      https://proof.com.sg/products/grantorino-sofa   \n",
       "3   https://proof.com.sg/products/mamy-blue-armchair   \n",
       "4        https://proof.com.sg/products/othello-table   \n",
       "\n",
       "                                 product_description  \n",
       "0  Roberto Lazzeroni has enriched the series of F...  \n",
       "1  After Let it Be and Come Together, designed fo...  \n",
       "2  The world of saddlery, a realm of luxury craft...  \n",
       "3  Mamy Blue could be described as an armchair fo...  \n",
       "4  The series of Othello tables are inspired by t...  "
      ]
     },
     "execution_count": 61,
     "metadata": {},
     "output_type": "execute_result"
    }
   ],
   "source": [
    "def string_to_list(string):\n",
    "    try:\n",
    "        # Assuming the string is a representation of a list, like \"['item1', 'item2', 'item3']\"\n",
    "        if isinstance(string, str):\n",
    "            list_str = string.strip(\"[]\").split(\", \")\n",
    "            list_str = [item.strip(\"'\") for item in list_str]\n",
    "            return list_str\n",
    "        else:\n",
    "            raise ValueError(\"Input is not a string representation of a list.\")\n",
    "    except Exception as e:\n",
    "        print(f\"An error occurred: {e}\")\n",
    "\n",
    "# Apply the string_to_list function to the 'product_image_all' column in the dataframe\n",
    "df['product_image_all'] = df['product_image_all'].apply(string_to_list)\n",
    "print(f\"The dataframe has {df.shape[0]} rows and {df.shape[1]} columns.\")\n",
    "df.head()"
   ]
  },
  {
   "cell_type": "code",
   "execution_count": 62,
   "metadata": {},
   "outputs": [],
   "source": [
    "system_prompt = '''\n",
    "    You are an agent specialized in tagging images of furniture items, decorative items, or furnishings with relevant keywords that could be used to search for these items on a marketplace.\n",
    "    \n",
    "    You will be provided with a list of images of the item, the product_title and product_description of the item depicted in the image, and your goal is to extract keywords for only the item specified. \n",
    "    \n",
    "    Keywords should be concise and in lower case. \n",
    "    \n",
    "    Keywords can describe things like:\n",
    "    - Item type e.g. 'sofa bed', 'chair', 'desk', 'plant'\n",
    "    - Item material e.g. 'wood', 'metal', 'fabric'\n",
    "    - Item style e.g. 'scandinavian', 'vintage', 'industrial', 'modern', 'contemporary'\n",
    "    - Item color e.g. 'red', 'blue', 'white'\n",
    "    \n",
    "    Only deduce material, style or color keywords when it is obvious that they make the item depicted in the image stand out or specifically mentioned in the product_description\n",
    "\n",
    "    Return keywords in the format of an array of strings, and only the array of strings, like this:\n",
    "    ['desk', 'industrial', 'metal']\n",
    "    \n",
    "'''"
   ]
  },
  {
   "cell_type": "code",
   "execution_count": 63,
   "metadata": {},
   "outputs": [],
   "source": [
    "def create_user_prompt(product_name, product_description, image_urls):\n",
    "    user_prompt = [\n",
    "        {\n",
    "            \"type\": \"text\",\n",
    "            \"text\": f\"product_name: {product_name} \\n\",\n",
    "        }, \n",
    "        {\n",
    "            \"type\": \"text\",\n",
    "            \"text\": f\"product_description: {product_description} \\n\",\n",
    "        }\n",
    "    ]\n",
    "    user_prompt.extend([\n",
    "        {\n",
    "            \"type\": \"image_url\",\n",
    "            \"image_url\": {\n",
    "                \"url\": url,\n",
    "            },\n",
    "        } for url in image_urls\n",
    "    ])\n",
    "    return user_prompt\n"
   ]
  },
  {
   "cell_type": "code",
   "execution_count": 54,
   "metadata": {},
   "outputs": [],
   "source": [
    "def analyze_image(user_prompt):\n",
    "    response = client.chat.completions.create(\n",
    "    model=\"gpt-4-vision-preview\",\n",
    "    messages=[\n",
    "        {\n",
    "            \"role\": \"system\",\n",
    "            \"content\": system_prompt\n",
    "        },\n",
    "        {\n",
    "            \"role\": \"user\",\n",
    "            \"content\": user_prompt,\n",
    "        },\n",
    "    ],\n",
    "        max_tokens=500,\n",
    "        top_p=0.1\n",
    "    )\n",
    "\n",
    "    return response.choices[0].message.content"
   ]
  },
  {
   "cell_type": "code",
   "execution_count": 55,
   "metadata": {},
   "outputs": [
    {
     "name": "stdout",
     "output_type": "stream",
     "text": [
      "0\n",
      "1\n",
      "2\n",
      "3\n",
      "4\n",
      "5\n",
      "6\n",
      "7\n",
      "8\n",
      "9\n"
     ]
    }
   ],
   "source": [
    "keywords = []\n",
    "for index, row in df.iterrows():\n",
    "    try:\n",
    "        user_prompt = create_user_prompt(row['product_name'], row['product_description'], row['product_image_all'])\n",
    "        keyword_list = analyze_image(user_prompt)\n",
    "        keywords.append(keyword_list)\n",
    "    except Exception as e:\n",
    "        keywords.append(f\"Error: {str(e)}\")\n",
    "    print(index)\n",
    "\n",
    "df['keywords'] = keywords"
   ]
  },
  {
   "cell_type": "code",
   "execution_count": 56,
   "metadata": {},
   "outputs": [],
   "source": [
    "df.to_csv('product_small_keywords.csv', index=False)\n"
   ]
  },
  {
   "cell_type": "markdown",
   "metadata": {},
   "source": [
    "## Load Products CSV with Keywords"
   ]
  },
  {
   "cell_type": "code",
   "execution_count": 65,
   "metadata": {},
   "outputs": [
    {
     "data": {
      "text/html": [
       "<div>\n",
       "<style scoped>\n",
       "    .dataframe tbody tr th:only-of-type {\n",
       "        vertical-align: middle;\n",
       "    }\n",
       "\n",
       "    .dataframe tbody tr th {\n",
       "        vertical-align: top;\n",
       "    }\n",
       "\n",
       "    .dataframe thead th {\n",
       "        text-align: right;\n",
       "    }\n",
       "</style>\n",
       "<table border=\"1\" class=\"dataframe\">\n",
       "  <thead>\n",
       "    <tr style=\"text-align: right;\">\n",
       "      <th></th>\n",
       "      <th>product_name</th>\n",
       "      <th>product_image</th>\n",
       "      <th>product_url</th>\n",
       "      <th>keywords</th>\n",
       "    </tr>\n",
       "  </thead>\n",
       "  <tbody>\n",
       "    <tr>\n",
       "      <th>0</th>\n",
       "      <td>Fidelio Multimedia Cabinet</td>\n",
       "      <td>https://cdn.shopify.com/s/files/1/0093/8033/15...</td>\n",
       "      <td>https://proof.com.sg/products/fidelio-multimed...</td>\n",
       "      <td>['multimedia cabinet', 'wood', 'modern', 'brown']</td>\n",
       "    </tr>\n",
       "    <tr>\n",
       "      <th>1</th>\n",
       "      <td>Get Back 2-Seater Sofa</td>\n",
       "      <td>https://cdn.shopify.com/s/files/1/0093/8033/15...</td>\n",
       "      <td>https://proof.com.sg/products/get-back-sofa</td>\n",
       "      <td>['sofa', '2-seater', 'leather', 'brown', 'mode...</td>\n",
       "    </tr>\n",
       "    <tr>\n",
       "      <th>2</th>\n",
       "      <td>Grantorino 3-Seater Sofa</td>\n",
       "      <td>https://cdn.shopify.com/s/files/1/0093/8033/15...</td>\n",
       "      <td>https://proof.com.sg/products/grantorino-sofa</td>\n",
       "      <td>['sofa', '3-seater', 'fabric', 'wood', 'beige'...</td>\n",
       "    </tr>\n",
       "    <tr>\n",
       "      <th>3</th>\n",
       "      <td>Mamy Blue Armchair with Ottoman</td>\n",
       "      <td>https://cdn.shopify.com/s/files/1/0093/8033/15...</td>\n",
       "      <td>https://proof.com.sg/products/mamy-blue-armchair</td>\n",
       "      <td>['armchair', 'ottoman', 'leather', 'blue', 'br...</td>\n",
       "    </tr>\n",
       "    <tr>\n",
       "      <th>4</th>\n",
       "      <td>Othello Table</td>\n",
       "      <td>https://cdn.shopify.com/s/files/1/0093/8033/15...</td>\n",
       "      <td>https://proof.com.sg/products/othello-table</td>\n",
       "      <td>['table', 'oval', 'marble top', 'wooden base',...</td>\n",
       "    </tr>\n",
       "  </tbody>\n",
       "</table>\n",
       "</div>"
      ],
      "text/plain": [
       "                      product_name  \\\n",
       "0       Fidelio Multimedia Cabinet   \n",
       "1           Get Back 2-Seater Sofa   \n",
       "2         Grantorino 3-Seater Sofa   \n",
       "3  Mamy Blue Armchair with Ottoman   \n",
       "4                    Othello Table   \n",
       "\n",
       "                                       product_image  \\\n",
       "0  https://cdn.shopify.com/s/files/1/0093/8033/15...   \n",
       "1  https://cdn.shopify.com/s/files/1/0093/8033/15...   \n",
       "2  https://cdn.shopify.com/s/files/1/0093/8033/15...   \n",
       "3  https://cdn.shopify.com/s/files/1/0093/8033/15...   \n",
       "4  https://cdn.shopify.com/s/files/1/0093/8033/15...   \n",
       "\n",
       "                                         product_url  \\\n",
       "0  https://proof.com.sg/products/fidelio-multimed...   \n",
       "1        https://proof.com.sg/products/get-back-sofa   \n",
       "2      https://proof.com.sg/products/grantorino-sofa   \n",
       "3   https://proof.com.sg/products/mamy-blue-armchair   \n",
       "4        https://proof.com.sg/products/othello-table   \n",
       "\n",
       "                                            keywords  \n",
       "0  ['multimedia cabinet', 'wood', 'modern', 'brown']  \n",
       "1  ['sofa', '2-seater', 'leather', 'brown', 'mode...  \n",
       "2  ['sofa', '3-seater', 'fabric', 'wood', 'beige'...  \n",
       "3  ['armchair', 'ottoman', 'leather', 'blue', 'br...  \n",
       "4  ['table', 'oval', 'marble top', 'wooden base',...  "
      ]
     },
     "execution_count": 65,
     "metadata": {},
     "output_type": "execute_result"
    }
   ],
   "source": [
    "\n",
    "df = pd.read_csv('product_keywords.csv')\n",
    "\n",
    "df.head()"
   ]
  },
  {
   "cell_type": "code",
   "execution_count": 66,
   "metadata": {},
   "outputs": [],
   "source": [
    "def convert_string_to_list(string_list):\n",
    "    try:\n",
    "        actual_list = ast.literal_eval(string_list)\n",
    "        return actual_list\n",
    "    except ValueError as e:\n",
    "        print(f\"Error converting string to list: {e}\")\n",
    "        return None"
   ]
  },
  {
   "cell_type": "code",
   "execution_count": 68,
   "metadata": {},
   "outputs": [
    {
     "name": "stdout",
     "output_type": "stream",
     "text": [
      "Skipping product 'Go Figure' at index 61 due to error: unterminated string literal (detected at line 1) (<unknown>, line 1)\n",
      "Skipping product 'Light The Way' at index 96 due to error: invalid syntax (<unknown>, line 1)\n",
      "Skipping product 'Burano Rug' at index 102 due to error: invalid syntax (<unknown>, line 1)\n",
      "Skipping product 'Turn+' at index 155 due to error: invalid syntax (<unknown>, line 1)\n",
      "Skipping product 'Sister Louise' at index 162 due to error: invalid syntax (<unknown>, line 1)\n"
     ]
    }
   ],
   "source": [
    "unique_keywords = set()\n",
    "\n",
    "for index, row in df.iterrows():\n",
    "    try:\n",
    "        keyword_list = convert_string_to_list(row['keywords'])\n",
    "        if keyword_list:\n",
    "            unique_keywords.update(keyword_list)\n",
    "    except Exception as e:\n",
    "        print(f\"Skipping product '{row['product_name']}' at index {index} due to error: {e}\")\n",
    "        continue\n",
    "\n",
    "unique_keywords_list = list(unique_keywords)\n",
    "\n"
   ]
  },
  {
   "cell_type": "code",
   "execution_count": 70,
   "metadata": {},
   "outputs": [
    {
     "name": "stdout",
     "output_type": "stream",
     "text": [
      "There are 265 unique keywords.\n",
      "First 10 keywords and their counts:\n",
      "          Keyword  Count\n",
      "115         metal     78\n",
      "240        modern     70\n",
      "50           wood     62\n",
      "74          table     50\n",
      "244        fabric     48\n",
      "116  contemporary     46\n",
      "176         chair     40\n",
      "88          white     39\n",
      "206         black     37\n",
      "254         brown     36\n",
      "\n",
      "Last 5 keywords and their counts:\n",
      "          Keyword  Count\n",
      "165  indoor plant      1\n",
      "166        auburn      1\n",
      "167    tv cabinet      1\n",
      "168        framed      1\n",
      "188         cloth      1\n"
     ]
    }
   ],
   "source": [
    "# Count the occurrences of each keyword in the 'keywords' column of the dataframe\n",
    "keyword_counts = {}\n",
    "for keyword in unique_keywords_list:\n",
    "    count = df['keywords'].str.contains(keyword, regex=False).sum()\n",
    "    keyword_counts[keyword] = count\n",
    "\n",
    "# Convert the dictionary to a dataframe for better visualization\n",
    "df_keyword_counts = pd.DataFrame(list(keyword_counts.items()), columns=['Keyword', 'Count']).sort_values(by='Count', ascending=False)\n",
    "\n",
    "\n",
    "print(f\"There are {len(unique_keywords_list)} unique keywords.\")\n",
    "print(\"First 10 keywords and their counts:\")\n",
    "print(df_keyword_counts[:10])\n",
    "print(\"\\nLast 5 keywords and their counts:\")\n",
    "print(df_keyword_counts[-5:])\n"
   ]
  },
  {
   "cell_type": "markdown",
   "metadata": {},
   "source": [
    "## Embedding Keywords"
   ]
  },
  {
   "cell_type": "code",
   "execution_count": 9,
   "metadata": {},
   "outputs": [],
   "source": [
    "def get_embedding(value, model=\"text-embedding-3-large\"): \n",
    "    embeddings = client.embeddings.create(\n",
    "      model=model,\n",
    "      input=value,\n",
    "      encoding_format=\"float\"\n",
    "    )\n",
    "    return embeddings.data[0].embedding"
   ]
  },
  {
   "cell_type": "code",
   "execution_count": 13,
   "metadata": {},
   "outputs": [
    {
     "data": {
      "text/html": [
       "<div>\n",
       "<style scoped>\n",
       "    .dataframe tbody tr th:only-of-type {\n",
       "        vertical-align: middle;\n",
       "    }\n",
       "\n",
       "    .dataframe tbody tr th {\n",
       "        vertical-align: top;\n",
       "    }\n",
       "\n",
       "    .dataframe thead th {\n",
       "        text-align: right;\n",
       "    }\n",
       "</style>\n",
       "<table border=\"1\" class=\"dataframe\">\n",
       "  <thead>\n",
       "    <tr style=\"text-align: right;\">\n",
       "      <th></th>\n",
       "      <th>keyword</th>\n",
       "      <th>embedding</th>\n",
       "    </tr>\n",
       "  </thead>\n",
       "  <tbody>\n",
       "    <tr>\n",
       "      <th>0</th>\n",
       "      <td>lantern</td>\n",
       "      <td>[-0.0069259447, -0.03568734, -0.0018425976, 0....</td>\n",
       "    </tr>\n",
       "    <tr>\n",
       "      <th>1</th>\n",
       "      <td>dining table</td>\n",
       "      <td>[-0.013363886, 0.0036296975, -0.009659945, 0.0...</td>\n",
       "    </tr>\n",
       "    <tr>\n",
       "      <th>2</th>\n",
       "      <td>freestanding</td>\n",
       "      <td>[-0.015173343, 0.008831116, -0.010515562, -0.0...</td>\n",
       "    </tr>\n",
       "    <tr>\n",
       "      <th>3</th>\n",
       "      <td>mirror</td>\n",
       "      <td>[-0.03284055, -0.0026042038, -0.008534649, 0.0...</td>\n",
       "    </tr>\n",
       "    <tr>\n",
       "      <th>4</th>\n",
       "      <td>with shelf</td>\n",
       "      <td>[-0.055056524, 0.009057853, -0.025313543, -0.0...</td>\n",
       "    </tr>\n",
       "    <tr>\n",
       "      <th>...</th>\n",
       "      <td>...</td>\n",
       "      <td>...</td>\n",
       "    </tr>\n",
       "    <tr>\n",
       "      <th>260</th>\n",
       "      <td>dark brown</td>\n",
       "      <td>[-0.0032348004, 0.009423737, -0.0022780863, -0...</td>\n",
       "    </tr>\n",
       "    <tr>\n",
       "      <th>261</th>\n",
       "      <td>area rug</td>\n",
       "      <td>[-0.037138514, -0.018781073, -0.000190304, 0.0...</td>\n",
       "    </tr>\n",
       "    <tr>\n",
       "      <th>262</th>\n",
       "      <td>crystal</td>\n",
       "      <td>[-0.0039020386, -0.003952973, -0.0056913956, 0...</td>\n",
       "    </tr>\n",
       "    <tr>\n",
       "      <th>263</th>\n",
       "      <td>wine bag</td>\n",
       "      <td>[-0.03963623, 0.0102983415, -0.003990165, 0.00...</td>\n",
       "    </tr>\n",
       "    <tr>\n",
       "      <th>264</th>\n",
       "      <td>decorative item</td>\n",
       "      <td>[-0.046359107, 0.0010812389, -0.02134691, -0.0...</td>\n",
       "    </tr>\n",
       "  </tbody>\n",
       "</table>\n",
       "<p>265 rows × 2 columns</p>\n",
       "</div>"
      ],
      "text/plain": [
       "             keyword                                          embedding\n",
       "0            lantern  [-0.0069259447, -0.03568734, -0.0018425976, 0....\n",
       "1       dining table  [-0.013363886, 0.0036296975, -0.009659945, 0.0...\n",
       "2       freestanding  [-0.015173343, 0.008831116, -0.010515562, -0.0...\n",
       "3             mirror  [-0.03284055, -0.0026042038, -0.008534649, 0.0...\n",
       "4         with shelf  [-0.055056524, 0.009057853, -0.025313543, -0.0...\n",
       "..               ...                                                ...\n",
       "260       dark brown  [-0.0032348004, 0.009423737, -0.0022780863, -0...\n",
       "261         area rug  [-0.037138514, -0.018781073, -0.000190304, 0.0...\n",
       "262          crystal  [-0.0039020386, -0.003952973, -0.0056913956, 0...\n",
       "263         wine bag  [-0.03963623, 0.0102983415, -0.003990165, 0.00...\n",
       "264  decorative item  [-0.046359107, 0.0010812389, -0.02134691, -0.0...\n",
       "\n",
       "[265 rows x 2 columns]"
      ]
     },
     "execution_count": 13,
     "metadata": {},
     "output_type": "execute_result"
    }
   ],
   "source": [
    "df_keywords = pd.DataFrame(unique_keywords_list, columns=['keyword'])\n",
    "df_keywords['embedding'] = df_keywords['keyword'].apply(lambda x: get_embedding(x))\n",
    "df_keywords"
   ]
  },
  {
   "cell_type": "markdown",
   "metadata": {},
   "source": [
    "### for embeddings of new products/keywords"
   ]
  },
  {
   "cell_type": "code",
   "execution_count": 14,
   "metadata": {},
   "outputs": [],
   "source": [
    "def compare_keyword(keyword):\n",
    "    embedded_value = get_embedding(keyword)\n",
    "    df_keywords['similarity'] = df_keywords['embedding'].apply(lambda x: cosine_similarity(np.array(x).reshape(1,-1), np.array(embedded_value).reshape(1, -1)))\n",
    "    most_similar = df_keywords.sort_values('similarity', ascending=False).iloc[0]\n",
    "    return most_similar\n",
    "\n",
    "def replace_keyword(keyword, threshold = 0.6):\n",
    "    most_similar = compare_keyword(keyword)\n",
    "    if most_similar['similarity'] > threshold:\n",
    "        print(f\"Replacing '{keyword}' with existing keyword: '{most_similar['keyword']}'\")\n",
    "        return most_similar['keyword']\n",
    "    return keyword"
   ]
  },
  {
   "cell_type": "markdown",
   "metadata": {},
   "source": [
    "## Demo"
   ]
  },
  {
   "cell_type": "code",
   "execution_count": 71,
   "metadata": {},
   "outputs": [],
   "source": [
    "def search_products_by_keyword(df, keyword):\n",
    "    # Filter the dataframe for products containing the keyword in their keywords list\n",
    "    filtered_df = df[df['keywords'].apply(lambda x: keyword in x)]\n",
    "    # Return the first 5 products\n",
    "    return filtered_df\n",
    "\n",
    "def render_products(df):\n",
    "    # Render the first 5 products, images, and keywords\n",
    "    for index, row in df.iterrows():\n",
    "        product_name = row['product_name']\n",
    "        product_url = row['product_url']\n",
    "        product_image = row['product_image']\n",
    "        product_keywords = row['keywords']\n",
    "        print(f\"Product Name: {product_name}\")\n",
    "        print(f\"Product URL: {product_url}\")\n",
    "        print(f\"Keywords: {product_keywords}\")\n",
    "        display(Image(url=product_image))\n",
    "        print(\"\\n\")\n"
   ]
  },
  {
   "cell_type": "code",
   "execution_count": 75,
   "metadata": {},
   "outputs": [
    {
     "name": "stdout",
     "output_type": "stream",
     "text": [
      "There are 1 products that contain the keyword 'tv cabinet' \n",
      "Here are 10 of them:\n",
      "\n",
      "\n",
      "Product Name: Full TV Cabinet\n",
      "Product URL: https://proof.com.sg/products/full-tv-cabinets\n",
      "Keywords: ['tv cabinet', 'wood', 'modern', 'dark brown']\n"
     ]
    },
    {
     "data": {
      "text/html": [
       "<img src=\"https://cdn.shopify.com/s/files/1/0093/8033/1583/files/fulltv1.png?v=1698978617\"/>"
      ],
      "text/plain": [
       "<IPython.core.display.Image object>"
      ]
     },
     "metadata": {},
     "output_type": "display_data"
    },
    {
     "name": "stdout",
     "output_type": "stream",
     "text": [
      "\n",
      "\n"
     ]
    }
   ],
   "source": [
    "keyword = \"tv cabinet\"\n",
    "number = 10\n",
    "\n",
    "filtered_df = search_products_by_keyword(df, keyword)\n",
    "print(f\"There are {len(filtered_df)} products that contain the keyword '{keyword}' \\nHere are {number} of them:\\n\\n\")\n",
    "\n",
    "render_products(filtered_df[:number])"
   ]
  }
 ],
 "metadata": {
  "kernelspec": {
   "display_name": "Python 3",
   "language": "python",
   "name": "python3"
  },
  "language_info": {
   "codemirror_mode": {
    "name": "ipython",
    "version": 3
   },
   "file_extension": ".py",
   "mimetype": "text/x-python",
   "name": "python",
   "nbconvert_exporter": "python",
   "pygments_lexer": "ipython3",
   "version": "3.11.0"
  }
 },
 "nbformat": 4,
 "nbformat_minor": 2
}
