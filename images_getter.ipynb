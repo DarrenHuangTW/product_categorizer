{
 "cells": [
  {
   "cell_type": "code",
   "execution_count": 1,
   "metadata": {},
   "outputs": [],
   "source": [
    "import pandas as pd\n",
    "import requests\n",
    "from bs4 import BeautifulSoup\n",
    "\n"
   ]
  },
  {
   "cell_type": "code",
   "execution_count": 9,
   "metadata": {},
   "outputs": [],
   "source": [
    "# Load the products_small.csv file into a DataFrame\n",
    "df = pd.read_csv('products_small.csv')\n",
    "\n",
    "def get_image_sources(url):\n",
    "    response = requests.get(url)\n",
    "    if response.status_code == 200:\n",
    "        soup = BeautifulSoup(response.text, 'html.parser')\n",
    "        # Exclude images within <noscript> tags\n",
    "        noscript_tags = soup.find_all('noscript')\n",
    "        for noscript in noscript_tags:\n",
    "            noscript.decompose()\n",
    "        images = soup.select('div.product__media img')\n",
    "        return [requests.compat.urljoin(url, img['src']) for img in images if img.has_attr('src')]\n",
    "    else:\n",
    "        return []\n",
    "\n",
    "# Apply the get_image_sources function to all URLs and store the results in a new column\n",
    "df['Image Sources'] = df['product_url'].apply(get_image_sources)\n",
    "\n"
   ]
  },
  {
   "cell_type": "code",
   "execution_count": 10,
   "metadata": {},
   "outputs": [
    {
     "data": {
      "text/html": [
       "<div>\n",
       "<style scoped>\n",
       "    .dataframe tbody tr th:only-of-type {\n",
       "        vertical-align: middle;\n",
       "    }\n",
       "\n",
       "    .dataframe tbody tr th {\n",
       "        vertical-align: top;\n",
       "    }\n",
       "\n",
       "    .dataframe thead th {\n",
       "        text-align: right;\n",
       "    }\n",
       "</style>\n",
       "<table border=\"1\" class=\"dataframe\">\n",
       "  <thead>\n",
       "    <tr style=\"text-align: right;\">\n",
       "      <th></th>\n",
       "      <th>product_name</th>\n",
       "      <th>product_image</th>\n",
       "      <th>product_url</th>\n",
       "      <th>product_description</th>\n",
       "      <th>Image Sources</th>\n",
       "    </tr>\n",
       "  </thead>\n",
       "  <tbody>\n",
       "    <tr>\n",
       "      <th>0</th>\n",
       "      <td>Fidelio Multimedia Cabinet</td>\n",
       "      <td>https://cdn.shopify.com/s/files/1/0093/8033/15...</td>\n",
       "      <td>https://proof.com.sg/products/fidelio-multimed...</td>\n",
       "      <td>Roberto Lazzeroni has enriched the series of F...</td>\n",
       "      <td>[https://proof.com.sg/cdn/shop/files/fideliomu...</td>\n",
       "    </tr>\n",
       "    <tr>\n",
       "      <th>1</th>\n",
       "      <td>Get Back 2-Seater Sofa</td>\n",
       "      <td>https://cdn.shopify.com/s/files/1/0093/8033/15...</td>\n",
       "      <td>https://proof.com.sg/products/get-back-sofa</td>\n",
       "      <td>After Let it Be and Come Together, designed fo...</td>\n",
       "      <td>[https://proof.com.sg/cdn/shop/files/get1.png?...</td>\n",
       "    </tr>\n",
       "    <tr>\n",
       "      <th>2</th>\n",
       "      <td>Grantorino 3-Seater Sofa</td>\n",
       "      <td>https://cdn.shopify.com/s/files/1/0093/8033/15...</td>\n",
       "      <td>https://proof.com.sg/products/grantorino-sofa</td>\n",
       "      <td>The world of saddlery, a realm of luxury craft...</td>\n",
       "      <td>[https://proof.com.sg/cdn/shop/files/3seater.p...</td>\n",
       "    </tr>\n",
       "    <tr>\n",
       "      <th>3</th>\n",
       "      <td>Mamy Blue Armchair with Ottoman</td>\n",
       "      <td>https://cdn.shopify.com/s/files/1/0093/8033/15...</td>\n",
       "      <td>https://proof.com.sg/products/mamy-blue-armchair</td>\n",
       "      <td>Mamy Blue could be described as an armchair fo...</td>\n",
       "      <td>[https://proof.com.sg/cdn/shop/files/mamy3_1c7...</td>\n",
       "    </tr>\n",
       "    <tr>\n",
       "      <th>4</th>\n",
       "      <td>Othello Table</td>\n",
       "      <td>https://cdn.shopify.com/s/files/1/0093/8033/15...</td>\n",
       "      <td>https://proof.com.sg/products/othello-table</td>\n",
       "      <td>The series of Othello tables are inspired by t...</td>\n",
       "      <td>[https://proof.com.sg/cdn/shop/files/OthelloTa...</td>\n",
       "    </tr>\n",
       "  </tbody>\n",
       "</table>\n",
       "</div>"
      ],
      "text/plain": [
       "                      product_name  \\\n",
       "0       Fidelio Multimedia Cabinet   \n",
       "1           Get Back 2-Seater Sofa   \n",
       "2         Grantorino 3-Seater Sofa   \n",
       "3  Mamy Blue Armchair with Ottoman   \n",
       "4                    Othello Table   \n",
       "\n",
       "                                       product_image  \\\n",
       "0  https://cdn.shopify.com/s/files/1/0093/8033/15...   \n",
       "1  https://cdn.shopify.com/s/files/1/0093/8033/15...   \n",
       "2  https://cdn.shopify.com/s/files/1/0093/8033/15...   \n",
       "3  https://cdn.shopify.com/s/files/1/0093/8033/15...   \n",
       "4  https://cdn.shopify.com/s/files/1/0093/8033/15...   \n",
       "\n",
       "                                         product_url  \\\n",
       "0  https://proof.com.sg/products/fidelio-multimed...   \n",
       "1        https://proof.com.sg/products/get-back-sofa   \n",
       "2      https://proof.com.sg/products/grantorino-sofa   \n",
       "3   https://proof.com.sg/products/mamy-blue-armchair   \n",
       "4        https://proof.com.sg/products/othello-table   \n",
       "\n",
       "                                 product_description  \\\n",
       "0  Roberto Lazzeroni has enriched the series of F...   \n",
       "1  After Let it Be and Come Together, designed fo...   \n",
       "2  The world of saddlery, a realm of luxury craft...   \n",
       "3  Mamy Blue could be described as an armchair fo...   \n",
       "4  The series of Othello tables are inspired by t...   \n",
       "\n",
       "                                       Image Sources  \n",
       "0  [https://proof.com.sg/cdn/shop/files/fideliomu...  \n",
       "1  [https://proof.com.sg/cdn/shop/files/get1.png?...  \n",
       "2  [https://proof.com.sg/cdn/shop/files/3seater.p...  \n",
       "3  [https://proof.com.sg/cdn/shop/files/mamy3_1c7...  \n",
       "4  [https://proof.com.sg/cdn/shop/files/OthelloTa...  "
      ]
     },
     "execution_count": 10,
     "metadata": {},
     "output_type": "execute_result"
    }
   ],
   "source": [
    "df.head()"
   ]
  },
  {
   "cell_type": "code",
   "execution_count": 11,
   "metadata": {},
   "outputs": [
    {
     "name": "stdout",
     "output_type": "stream",
     "text": [
      "Image Sources: https://proof.com.sg/cdn/shop/files/fideliomultimedia1.png?v=1698919623&width=1946\n",
      "Image Sources: https://proof.com.sg/cdn/shop/files/fideliomultimedia.png?v=1698919623&width=1946\n",
      "Image Sources: https://proof.com.sg/cdn/shop/files/fideliomultimedia3.png?v=1698919538&width=1946\n",
      "Image Sources: https://proof.com.sg/cdn/shop/files/image-swatch-saddle-extra-cammello.png?v=1698919538&width=1946\n",
      "Image Sources: https://proof.com.sg/cdn/shop/files/image-swatch-saddle-avorio.png?v=1698919538&width=1946\n",
      "Image Sources: https://proof.com.sg/cdn/shop/files/image-swatch-saddle-extra-testi-di-moro.png?v=1698919538&width=1946\n"
     ]
    }
   ],
   "source": [
    "for image_sources in df['Image Sources'][0]:\n",
    "    print(\"Image Sources:\", image_sources)\n"
   ]
  },
  {
   "cell_type": "code",
   "execution_count": 12,
   "metadata": {},
   "outputs": [],
   "source": [
    "# Save the updated DataFrame to a new CSV file\n",
    "df.to_csv('products_small.csv', index=False)\n"
   ]
  }
 ],
 "metadata": {
  "kernelspec": {
   "display_name": "Python 3",
   "language": "python",
   "name": "python3"
  },
  "language_info": {
   "codemirror_mode": {
    "name": "ipython",
    "version": 3
   },
   "file_extension": ".py",
   "mimetype": "text/x-python",
   "name": "python",
   "nbconvert_exporter": "python",
   "pygments_lexer": "ipython3",
   "version": "3.11.0"
  }
 },
 "nbformat": 4,
 "nbformat_minor": 2
}
